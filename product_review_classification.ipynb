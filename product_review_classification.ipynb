{
 "cells": [
  {
   "cell_type": "markdown",
   "metadata": {},
   "source": [
    "# Product Review Classification\n",
    "\n",
    "## Business Understanding\n",
    "Our company wants a tool that will automatically classify product reviews as _positive_ or _negative_ reviews, based on the features of the review.  This will help our Product team to perform more sophisticated analyses in the future to help ensure customer satisfaction.\n",
    "\n",
    "## Data Understanding\n",
    "We have a labeled collection of 20,000 product reviews, with an equal split of positive and negative reviews. The dataset contains the following features:\n",
    "\n",
    " - `ProductId` Unique identifier for the product\n",
    " - `UserId` Unqiue identifier for the user\n",
    " - `ProfileName` Profile name of the user\n",
    " - `HelpfulnessNumerator` Number of users who found the review helpful\n",
    " - `HelpfulnessDenominator` Number of users who indicated whether they found the review helpful or not\n",
    " - `Time` Timestamp for the review\n",
    " - `Summary` Brief summary of the review\n",
    " - `Text` Text of the review\n",
    " - `PositiveReview` 1 if this was labeled as a positive review, 0 if it was labeled as a negative review"
   ]
  },
  {
   "cell_type": "code",
   "execution_count": 104,
   "metadata": {},
   "outputs": [],
   "source": [
    "import pandas as pd\n",
    "import numpy as np\n",
    "import matplotlib.pyplot as plt\n",
    "from sklearn.model_selection import train_test_split\n",
    "from sklearn.feature_extraction.text import TfidfVectorizer\n",
    "from sklearn.preprocessing import OneHotEncoder, FunctionTransformer, StandardScaler\n",
    "from sklearn.compose import ColumnTransformer\n",
    "from sklearn.pipeline import Pipeline\n",
    "from sklearn.ensemble import RandomForestClassifier\n",
    "from sklearn.metrics import confusion_matrix, accuracy_score, plot_confusion_matrix\n",
    "\n",
    "\n",
    "from tensorflow.keras.models import Sequential\n",
    "from tensorflow.keras.layers import Dense\n",
    "from tensorflow.keras import regularizers\n",
    "\n",
    "import time "
   ]
  },
  {
   "cell_type": "code",
   "execution_count": 2,
   "metadata": {},
   "outputs": [
    {
     "data": {
      "text/html": [
       "<div>\n",
       "<style scoped>\n",
       "    .dataframe tbody tr th:only-of-type {\n",
       "        vertical-align: middle;\n",
       "    }\n",
       "\n",
       "    .dataframe tbody tr th {\n",
       "        vertical-align: top;\n",
       "    }\n",
       "\n",
       "    .dataframe thead th {\n",
       "        text-align: right;\n",
       "    }\n",
       "</style>\n",
       "<table border=\"1\" class=\"dataframe\">\n",
       "  <thead>\n",
       "    <tr style=\"text-align: right;\">\n",
       "      <th></th>\n",
       "      <th>ProductId</th>\n",
       "      <th>UserId</th>\n",
       "      <th>ProfileName</th>\n",
       "      <th>HelpfulnessNumerator</th>\n",
       "      <th>HelpfulnessDenominator</th>\n",
       "      <th>Time</th>\n",
       "      <th>Summary</th>\n",
       "      <th>Text</th>\n",
       "      <th>PositiveReview</th>\n",
       "    </tr>\n",
       "  </thead>\n",
       "  <tbody>\n",
       "    <tr>\n",
       "      <th>0</th>\n",
       "      <td>B002QWHJOU</td>\n",
       "      <td>A37565LZHTG1VH</td>\n",
       "      <td>C. Maltese</td>\n",
       "      <td>1</td>\n",
       "      <td>1</td>\n",
       "      <td>1305331200</td>\n",
       "      <td>Awesome!</td>\n",
       "      <td>This is a great product. My 2 year old Golden ...</td>\n",
       "      <td>1</td>\n",
       "    </tr>\n",
       "    <tr>\n",
       "      <th>1</th>\n",
       "      <td>B000ESLJ6C</td>\n",
       "      <td>AMUAWXDJHE4D2</td>\n",
       "      <td>angieseashore</td>\n",
       "      <td>1</td>\n",
       "      <td>1</td>\n",
       "      <td>1320710400</td>\n",
       "      <td>Was there a recipe change?</td>\n",
       "      <td>I have been drinking Pero ever since I was a l...</td>\n",
       "      <td>0</td>\n",
       "    </tr>\n",
       "    <tr>\n",
       "      <th>2</th>\n",
       "      <td>B004IJJQK4</td>\n",
       "      <td>AMHHNAFJ9L958</td>\n",
       "      <td>A M</td>\n",
       "      <td>0</td>\n",
       "      <td>1</td>\n",
       "      <td>1321747200</td>\n",
       "      <td>These taste so bland.</td>\n",
       "      <td>Look, each pack contains two servings of 120 c...</td>\n",
       "      <td>0</td>\n",
       "    </tr>\n",
       "  </tbody>\n",
       "</table>\n",
       "</div>"
      ],
      "text/plain": [
       "    ProductId          UserId    ProfileName  HelpfulnessNumerator  \\\n",
       "0  B002QWHJOU  A37565LZHTG1VH     C. Maltese                     1   \n",
       "1  B000ESLJ6C   AMUAWXDJHE4D2  angieseashore                     1   \n",
       "2  B004IJJQK4   AMHHNAFJ9L958            A M                     0   \n",
       "\n",
       "   HelpfulnessDenominator        Time                     Summary  \\\n",
       "0                       1  1305331200                    Awesome!   \n",
       "1                       1  1320710400  Was there a recipe change?   \n",
       "2                       1  1321747200       These taste so bland.   \n",
       "\n",
       "                                                Text  PositiveReview  \n",
       "0  This is a great product. My 2 year old Golden ...               1  \n",
       "1  I have been drinking Pero ever since I was a l...               0  \n",
       "2  Look, each pack contains two servings of 120 c...               0  "
      ]
     },
     "execution_count": 2,
     "metadata": {},
     "output_type": "execute_result"
    }
   ],
   "source": [
    "df = pd.read_csv(\"reviews.csv\")\n",
    "df.head(3)"
   ]
  },
  {
   "cell_type": "markdown",
   "metadata": {},
   "source": [
    "The data has already been cleaned, so there are no missing values"
   ]
  },
  {
   "cell_type": "code",
   "execution_count": 3,
   "metadata": {},
   "outputs": [
    {
     "data": {
      "text/plain": [
       "ProductId                 0\n",
       "UserId                    0\n",
       "ProfileName               0\n",
       "HelpfulnessNumerator      0\n",
       "HelpfulnessDenominator    0\n",
       "Time                      0\n",
       "Summary                   0\n",
       "Text                      0\n",
       "PositiveReview            0\n",
       "dtype: int64"
      ]
     },
     "execution_count": 3,
     "metadata": {},
     "output_type": "execute_result"
    }
   ],
   "source": [
    "df.isna().sum()"
   ]
  },
  {
   "cell_type": "markdown",
   "metadata": {},
   "source": [
    "`PositiveReview` is the target, and all other columns are features"
   ]
  },
  {
   "cell_type": "code",
   "execution_count": 4,
   "metadata": {},
   "outputs": [],
   "source": [
    "X = df.drop(\"PositiveReview\", axis=1)\n",
    "y = df[\"PositiveReview\"]"
   ]
  },
  {
   "cell_type": "markdown",
   "metadata": {},
   "source": [
    "## Data Preparation\n",
    "\n",
    "First, split into train and test sets"
   ]
  },
  {
   "cell_type": "code",
   "execution_count": 5,
   "metadata": {},
   "outputs": [
    {
     "data": {
      "text/plain": [
       "(15000, 8)"
      ]
     },
     "execution_count": 5,
     "metadata": {},
     "output_type": "execute_result"
    }
   ],
   "source": [
    "X_train, X_test, y_train, y_test = train_test_split(X, y, random_state=42)\n",
    "X_train.shape"
   ]
  },
  {
   "cell_type": "markdown",
   "metadata": {},
   "source": [
    "Second, prepare for modeling. The following `Pipeline` prepares all data for modeling.  It one-hot encodes the `ProductId`, applies a tf-idf vectorizer to the `Summary` and `Text`, keeps the numeric columns as-is, and drops all other columns.\n",
    "\n",
    "The following code may take up to 1 minute to run."
   ]
  },
  {
   "cell_type": "code",
   "execution_count": 6,
   "metadata": {},
   "outputs": [
    {
     "data": {
      "text/plain": [
       "(15000, 11275)"
      ]
     },
     "execution_count": 6,
     "metadata": {},
     "output_type": "execute_result"
    }
   ],
   "source": [
    "def drop_irrelevant_columns(X):\n",
    "    return X.drop([\"UserId\", \"ProfileName\"], axis=1)\n",
    "\n",
    "pipeline = Pipeline(steps=[\n",
    "    (\"drop_columns\", FunctionTransformer(drop_irrelevant_columns)),\n",
    "    (\"transform_text_columns\", ColumnTransformer(transformers=[\n",
    "        (\"ohe\", OneHotEncoder(categories=\"auto\", handle_unknown=\"ignore\", sparse=False), [\"ProductId\"]),\n",
    "        (\"summary-tf-idf\", TfidfVectorizer(max_features=1000), \"Summary\"),\n",
    "        (\"text-tf-idf\", TfidfVectorizer(max_features=1000), \"Text\")\n",
    "    ], remainder=\"passthrough\"))\n",
    "])\n",
    "\n",
    "X_train_transformed = pipeline.fit_transform(X_train)\n",
    "X_test_transformed = pipeline.transform(X_test)\n",
    "\n",
    "X_train_transformed.shape"
   ]
  },
  {
   "cell_type": "code",
   "execution_count": 17,
   "metadata": {},
   "outputs": [
    {
     "data": {
      "text/plain": [
       "array([[0.0000000e+00, 0.0000000e+00, 0.0000000e+00, ..., 0.0000000e+00,\n",
       "        0.0000000e+00, 1.3382496e+09],\n",
       "       [0.0000000e+00, 0.0000000e+00, 0.0000000e+00, ..., 6.0000000e+00,\n",
       "        7.0000000e+00, 1.3252896e+09],\n",
       "       [0.0000000e+00, 0.0000000e+00, 0.0000000e+00, ..., 2.5000000e+01,\n",
       "        2.5000000e+01, 1.2589344e+09],\n",
       "       ...,\n",
       "       [0.0000000e+00, 0.0000000e+00, 0.0000000e+00, ..., 0.0000000e+00,\n",
       "        0.0000000e+00, 1.3463712e+09],\n",
       "       [0.0000000e+00, 0.0000000e+00, 0.0000000e+00, ..., 1.0000000e+00,\n",
       "        1.0000000e+00, 1.3340160e+09],\n",
       "       [0.0000000e+00, 0.0000000e+00, 0.0000000e+00, ..., 1.1000000e+01,\n",
       "        1.4000000e+01, 1.2594528e+09]])"
      ]
     },
     "execution_count": 17,
     "metadata": {},
     "output_type": "execute_result"
    }
   ],
   "source": [
    "X_train_transformed"
   ]
  },
  {
   "cell_type": "markdown",
   "metadata": {},
   "source": [
    "## Modeling\n",
    "\n",
    "Fit a `RandomForestClassifier` with the best hyperparameters.  The following code may take up to 1 minute to run."
   ]
  },
  {
   "cell_type": "code",
   "execution_count": 113,
   "metadata": {},
   "outputs": [
    {
     "name": "stdout",
     "output_type": "stream",
     "text": [
      "It took 46.04483366012573 to run\n"
     ]
    }
   ],
   "source": [
    "start_time = time.time()\n",
    "rfc = RandomForestClassifier(\n",
    "    random_state=42,\n",
    "    n_estimators=100,\n",
    "    max_depth=30,\n",
    "    min_samples_split=15,\n",
    "    min_samples_leaf=1\n",
    ")\n",
    "rfc.fit(X_train_transformed, y_train)\n",
    "rfc_time = time.time() - start_time\n",
    "rfc_preds_train = rfc.predict(X_train_transformed)\n",
    "rfc_preds_test = rfc.predict(X_test_transformed)\n",
    "print(f\"It took {rfc_time} to run\")"
   ]
  },
  {
   "cell_type": "markdown",
   "metadata": {},
   "source": [
    "## Model Evaluation\n",
    "\n",
    "We are using _accuracy_ as our metric, which is the default metric in Scikit-Learn, so it is possible to just use the built-in `.score` method"
   ]
  },
  {
   "cell_type": "code",
   "execution_count": 8,
   "metadata": {},
   "outputs": [
    {
     "name": "stdout",
     "output_type": "stream",
     "text": [
      "Train accuracy: 0.9826666666666667\n",
      "Test accuracy: 0.913\n"
     ]
    }
   ],
   "source": [
    "print(\"Train accuracy:\", rfc.score(X_train_transformed, y_train))\n",
    "print(\"Test accuracy:\", rfc.score(X_test_transformed, y_test))"
   ]
  },
  {
   "cell_type": "code",
   "execution_count": 9,
   "metadata": {},
   "outputs": [
    {
     "name": "stdout",
     "output_type": "stream",
     "text": [
      "Train confusion matrix:\n",
      "[[7312  177]\n",
      " [  83 7428]]\n",
      "Test confusion matrix:\n",
      "[[2293  218]\n",
      " [ 217 2272]]\n"
     ]
    }
   ],
   "source": [
    "print(\"Train confusion matrix:\")\n",
    "print(confusion_matrix(y_train, rfc.predict(X_train_transformed)))\n",
    "print(\"Test confusion matrix:\")\n",
    "print(confusion_matrix(y_test, rfc.predict(X_test_transformed)))"
   ]
  },
  {
   "cell_type": "markdown",
   "metadata": {},
   "source": [
    "## Business Interpretation\n",
    "\n",
    "The tuned Random Forest Classifier model appears to be somewhat overfit on the training data, but nevertheless achieves 91% accuracy on the test data.  Of the 9% of mislabeled comments, about half are false positives and half are false negatives.\n",
    "\n",
    "Because this is a balanced dataset, 91% accuracy is a substantial improvement over a 50% baseline.  This model is ready for production use for decision support."
   ]
  },
  {
   "cell_type": "code",
   "execution_count": 14,
   "metadata": {},
   "outputs": [
    {
     "data": {
      "text/plain": [
       "Index(['ProductId', 'UserId', 'ProfileName', 'HelpfulnessNumerator',\n",
       "       'HelpfulnessDenominator', 'Time', 'Summary', 'Text', 'PositiveReview'],\n",
       "      dtype='object')"
      ]
     },
     "execution_count": 14,
     "metadata": {},
     "output_type": "execute_result"
    }
   ],
   "source": [
    "df.columns"
   ]
  },
  {
   "cell_type": "code",
   "execution_count": 21,
   "metadata": {},
   "outputs": [],
   "source": [
    "ss = StandardScaler()\n",
    "\n",
    "X_train_transformed_scaled = ss.fit_transform(X_train_transformed)\n",
    "X_test_transformed_scaled = ss.transform(X_test_transformed)"
   ]
  },
  {
   "cell_type": "code",
   "execution_count": 26,
   "metadata": {},
   "outputs": [
    {
     "data": {
      "text/plain": [
       "(15000, 11275)"
      ]
     },
     "execution_count": 26,
     "metadata": {},
     "output_type": "execute_result"
    }
   ],
   "source": [
    "X_train_transformed_scaled.shape"
   ]
  },
  {
   "cell_type": "code",
   "execution_count": 34,
   "metadata": {},
   "outputs": [
    {
     "name": "stdout",
     "output_type": "stream",
     "text": [
      "Train on 13500 samples, validate on 1500 samples\n",
      "Epoch 1/5\n",
      "13500/13500 [==============================] - 3s 202us/sample - loss: 0.3583 - accuracy: 0.8439 - val_loss: 0.2279 - val_accuracy: 0.9120\n",
      "Epoch 2/5\n",
      "13500/13500 [==============================] - 2s 162us/sample - loss: 0.0869 - accuracy: 0.9696 - val_loss: 0.2840 - val_accuracy: 0.9027\n",
      "Epoch 3/5\n",
      "13500/13500 [==============================] - 2s 159us/sample - loss: 0.0165 - accuracy: 0.9949 - val_loss: 0.3528 - val_accuracy: 0.9007\n",
      "Epoch 4/5\n",
      "13500/13500 [==============================] - 2s 162us/sample - loss: 0.0064 - accuracy: 0.9981 - val_loss: 0.3885 - val_accuracy: 0.8947\n",
      "Epoch 5/5\n",
      "13500/13500 [==============================] - 2s 163us/sample - loss: 0.0037 - accuracy: 0.9991 - val_loss: 0.3660 - val_accuracy: 0.9060\n"
     ]
    },
    {
     "data": {
      "text/plain": [
       "<tensorflow.python.keras.callbacks.History at 0x22015d58128>"
      ]
     },
     "execution_count": 34,
     "metadata": {},
     "output_type": "execute_result"
    }
   ],
   "source": [
    "# base model\n",
    "model = Sequential()\n",
    "model.add(Dense(units = 64, activation = 'tanh', input_shape = (11275, )))\n",
    "model.add(Dense(units = 64, activation = 'tanh'))\n",
    "model.add(Dense(units = 64, activation = 'tanh'))\n",
    "model.add(Dense(units = 1, activation = 'sigmoid'))\n",
    "model.compile(optimizer = 'adam', loss = 'binary_crossentropy', metrics = ['accuracy'])\n",
    "model.fit(X_train_transformed_scaled, y_train, validation_split = 0.1, batch_size = 50, epochs = 5)"
   ]
  },
  {
   "cell_type": "code",
   "execution_count": 33,
   "metadata": {},
   "outputs": [
    {
     "name": "stdout",
     "output_type": "stream",
     "text": [
      "Train on 13500 samples, validate on 1500 samples\n",
      "Epoch 1/5\n",
      "13500/13500 [==============================] - 3s 200us/sample - loss: 0.3179 - accuracy: 0.8624 - val_loss: 0.2011 - val_accuracy: 0.9187\n",
      "Epoch 2/5\n",
      "13500/13500 [==============================] - 2s 162us/sample - loss: 0.0333 - accuracy: 0.9891 - val_loss: 0.2591 - val_accuracy: 0.9120\n",
      "Epoch 3/5\n",
      "13500/13500 [==============================] - 2s 162us/sample - loss: 0.0059 - accuracy: 0.9979 - val_loss: 0.2970 - val_accuracy: 0.9113\n",
      "Epoch 4/5\n",
      "13500/13500 [==============================] - 2s 161us/sample - loss: 0.0017 - accuracy: 0.9996 - val_loss: 0.3216 - val_accuracy: 0.9147\n",
      "Epoch 5/5\n",
      "13500/13500 [==============================] - 2s 167us/sample - loss: 5.7422e-04 - accuracy: 0.9999 - val_loss: 0.3306 - val_accuracy: 0.9133\n"
     ]
    },
    {
     "data": {
      "text/plain": [
       "<tensorflow.python.keras.callbacks.History at 0x2200af58048>"
      ]
     },
     "execution_count": 33,
     "metadata": {},
     "output_type": "execute_result"
    }
   ],
   "source": [
    "# changing activation functions\n",
    "model = Sequential()\n",
    "model.add(Dense(units = 64, activation = 'relu', input_shape = (11275, )))\n",
    "model.add(Dense(units = 64, activation = 'relu'))\n",
    "model.add(Dense(units = 64, activation = 'relu'))\n",
    "model.add(Dense(units = 1, activation = 'sigmoid'))\n",
    "model.compile(optimizer = 'adam', loss = 'binary_crossentropy', metrics = ['accuracy'])\n",
    "model.fit(X_train_transformed_scaled, y_train, validation_split = 0.1, batch_size = 50, epochs = 5)"
   ]
  },
  {
   "cell_type": "code",
   "execution_count": 35,
   "metadata": {},
   "outputs": [
    {
     "name": "stdout",
     "output_type": "stream",
     "text": [
      "Train on 13500 samples, validate on 1500 samples\n",
      "Epoch 1/5\n",
      "13500/13500 [==============================] - 3s 202us/sample - loss: 0.3011 - accuracy: 0.8695 - val_loss: 0.2069 - val_accuracy: 0.9147\n",
      "Epoch 2/5\n",
      "13500/13500 [==============================] - 2s 161us/sample - loss: 0.0373 - accuracy: 0.9881 - val_loss: 0.2407 - val_accuracy: 0.9200\n",
      "Epoch 3/5\n",
      "13500/13500 [==============================] - 2s 162us/sample - loss: 0.0091 - accuracy: 0.9973 - val_loss: 0.2720 - val_accuracy: 0.9173\n",
      "Epoch 4/5\n",
      "13500/13500 [==============================] - 2s 162us/sample - loss: 0.0024 - accuracy: 0.9992 - val_loss: 0.3049 - val_accuracy: 0.9153\n",
      "Epoch 5/5\n",
      "13500/13500 [==============================] - 2s 161us/sample - loss: 9.4831e-04 - accuracy: 0.9997 - val_loss: 0.3260 - val_accuracy: 0.9207\n"
     ]
    },
    {
     "data": {
      "text/plain": [
       "<tensorflow.python.keras.callbacks.History at 0x22016a75cc0>"
      ]
     },
     "execution_count": 35,
     "metadata": {},
     "output_type": "execute_result"
    }
   ],
   "source": [
    "# changing units\n",
    "model = Sequential()\n",
    "model.add(Dense(units = 64, activation = 'relu', input_shape = (11275, )))\n",
    "model.add(Dense(units = 32, activation = 'tanh'))\n",
    "model.add(Dense(units = 96, activation = 'tanh'))\n",
    "model.add(Dense(units = 1, activation = 'sigmoid'))\n",
    "model.compile(optimizer = 'adam', loss = 'binary_crossentropy', metrics = ['accuracy'])\n",
    "model.fit(X_train_transformed_scaled, y_train, validation_split = 0.1, batch_size = 50, epochs = 5)"
   ]
  },
  {
   "cell_type": "code",
   "execution_count": 43,
   "metadata": {},
   "outputs": [
    {
     "name": "stdout",
     "output_type": "stream",
     "text": [
      "Train on 13500 samples, validate on 1500 samples\n",
      "Epoch 1/5\n",
      "13500/13500 [==============================] - 3s 215us/sample - loss: 0.8066 - accuracy: 0.8722 - val_loss: 0.4032 - val_accuracy: 0.9220\n",
      "Epoch 2/5\n",
      "13500/13500 [==============================] - 2s 167us/sample - loss: 0.1305 - accuracy: 0.9909 - val_loss: 0.2804 - val_accuracy: 0.9120\n",
      "Epoch 3/5\n",
      "13500/13500 [==============================] - 2s 166us/sample - loss: 0.0342 - accuracy: 0.9983 - val_loss: 0.2677 - val_accuracy: 0.9113\n",
      "Epoch 4/5\n",
      "13500/13500 [==============================] - 2s 167us/sample - loss: 0.0146 - accuracy: 0.9996 - val_loss: 0.2569 - val_accuracy: 0.9153\n",
      "Epoch 5/5\n",
      "13500/13500 [==============================] - 2s 168us/sample - loss: 0.0097 - accuracy: 0.9998 - val_loss: 0.2652 - val_accuracy: 0.9100\n"
     ]
    },
    {
     "data": {
      "text/plain": [
       "<tensorflow.python.keras.callbacks.History at 0x22010224b70>"
      ]
     },
     "execution_count": 43,
     "metadata": {},
     "output_type": "execute_result"
    }
   ],
   "source": [
    "# changing units again\n",
    "# added l2 regularization\n",
    "model = Sequential()\n",
    "model.add(Dense(units = 64, activation = 'relu', input_shape = (11275, )))\n",
    "model.add(Dense(units = 128, activation = 'tanh', kernel_regularizer = regularizers.l2(0.005)))\n",
    "model.add(Dense(units = 128, activation = 'tanh', kernel_regularizer = regularizers.l2(0.005)))\n",
    "model.add(Dense(units = 1, activation = 'sigmoid'))\n",
    "model.compile(optimizer = 'adam', loss = 'binary_crossentropy', metrics = ['accuracy'])\n",
    "model.fit(X_train_transformed_scaled, y_train, validation_split = 0.1, batch_size = 50, epochs = 5)"
   ]
  },
  {
   "cell_type": "code",
   "execution_count": 45,
   "metadata": {},
   "outputs": [
    {
     "name": "stdout",
     "output_type": "stream",
     "text": [
      "Train on 13500 samples, validate on 1500 samples\n",
      "Epoch 1/50\n",
      "13500/13500 [==============================] - 3s 211us/sample - loss: 0.7681 - accuracy: 0.8655 - val_loss: 0.3735 - val_accuracy: 0.9087\n",
      "Epoch 2/50\n",
      "13500/13500 [==============================] - 2s 173us/sample - loss: 0.1105 - accuracy: 0.9858 - val_loss: 0.2637 - val_accuracy: 0.9100\n",
      "Epoch 3/50\n",
      "13500/13500 [==============================] - 2s 171us/sample - loss: 0.0299 - accuracy: 0.9959 - val_loss: 0.2529 - val_accuracy: 0.9193\n",
      "Epoch 4/50\n",
      "13500/13500 [==============================] - 2s 167us/sample - loss: 0.0147 - accuracy: 0.9987 - val_loss: 0.2714 - val_accuracy: 0.9153\n",
      "Epoch 5/50\n",
      "13500/13500 [==============================] - 2s 170us/sample - loss: 0.0102 - accuracy: 0.9998 - val_loss: 0.2707 - val_accuracy: 0.9160\n",
      "Epoch 6/50\n",
      "13500/13500 [==============================] - 2s 172us/sample - loss: 0.0085 - accuracy: 0.9999 - val_loss: 0.2749 - val_accuracy: 0.9140\n",
      "Epoch 7/50\n",
      "13500/13500 [==============================] - 2s 171us/sample - loss: 0.0075 - accuracy: 0.9998 - val_loss: 0.2780 - val_accuracy: 0.9153\n",
      "Epoch 8/50\n",
      "13500/13500 [==============================] - 2s 176us/sample - loss: 0.0068 - accuracy: 0.9999 - val_loss: 0.2736 - val_accuracy: 0.9147\n",
      "Epoch 9/50\n",
      "13500/13500 [==============================] - 2s 177us/sample - loss: 0.0062 - accuracy: 0.9999 - val_loss: 0.2689 - val_accuracy: 0.9133\n",
      "Epoch 10/50\n",
      "13500/13500 [==============================] - 3s 187us/sample - loss: 0.0061 - accuracy: 0.9999 - val_loss: 0.2850 - val_accuracy: 0.9147\n",
      "Epoch 11/50\n",
      "13500/13500 [==============================] - 2s 183us/sample - loss: 0.0055 - accuracy: 0.9999 - val_loss: 0.2854 - val_accuracy: 0.9067\n",
      "Epoch 12/50\n",
      "13500/13500 [==============================] - 2s 183us/sample - loss: 0.0054 - accuracy: 0.9999 - val_loss: 0.2928 - val_accuracy: 0.9060\n",
      "Epoch 13/50\n",
      "13500/13500 [==============================] - 2s 179us/sample - loss: 0.0053 - accuracy: 0.9998 - val_loss: 0.4180 - val_accuracy: 0.9080\n",
      "Epoch 14/50\n",
      "13500/13500 [==============================] - 2s 176us/sample - loss: 0.0061 - accuracy: 0.9997 - val_loss: 0.3167 - val_accuracy: 0.9047\n",
      "Epoch 15/50\n",
      "13500/13500 [==============================] - 2s 174us/sample - loss: 0.0069 - accuracy: 0.9993 - val_loss: 0.3454 - val_accuracy: 0.9080\n",
      "Epoch 16/50\n",
      "13500/13500 [==============================] - 2s 174us/sample - loss: 0.0127 - accuracy: 0.9981 - val_loss: 0.5059 - val_accuracy: 0.9067\n",
      "Epoch 17/50\n",
      "13500/13500 [==============================] - 2s 175us/sample - loss: 0.0097 - accuracy: 0.9984 - val_loss: 0.4743 - val_accuracy: 0.9040\n",
      "Epoch 18/50\n",
      "13500/13500 [==============================] - 2s 169us/sample - loss: 0.0116 - accuracy: 0.9980 - val_loss: 0.3949 - val_accuracy: 0.9060\n",
      "Epoch 19/50\n",
      "13500/13500 [==============================] - 2s 169us/sample - loss: 0.0086 - accuracy: 0.9987 - val_loss: 0.3301 - val_accuracy: 0.9080\n",
      "Epoch 20/50\n",
      "13500/13500 [==============================] - 2s 170us/sample - loss: 0.0045 - accuracy: 1.0000 - val_loss: 0.3588 - val_accuracy: 0.9073\n",
      "Epoch 21/50\n",
      "13500/13500 [==============================] - 2s 168us/sample - loss: 0.0036 - accuracy: 0.9999 - val_loss: 0.3447 - val_accuracy: 0.9080\n",
      "Epoch 22/50\n",
      "13500/13500 [==============================] - 2s 170us/sample - loss: 0.0034 - accuracy: 0.9999 - val_loss: 0.4558 - val_accuracy: 0.9033\n",
      "Epoch 23/50\n",
      "13500/13500 [==============================] - 2s 172us/sample - loss: 0.0031 - accuracy: 1.0000 - val_loss: 0.3457 - val_accuracy: 0.9073\n",
      "Epoch 24/50\n",
      "13500/13500 [==============================] - 2s 176us/sample - loss: 0.0027 - accuracy: 1.0000 - val_loss: 0.3433 - val_accuracy: 0.9073\n",
      "Epoch 25/50\n",
      "13500/13500 [==============================] - 3s 188us/sample - loss: 0.0027 - accuracy: 1.0000 - val_loss: 0.3752 - val_accuracy: 0.9067\n",
      "Epoch 26/50\n",
      "13500/13500 [==============================] - 2s 183us/sample - loss: 0.0026 - accuracy: 1.0000 - val_loss: 0.3508 - val_accuracy: 0.9073\n",
      "Epoch 27/50\n",
      "13500/13500 [==============================] - 2s 174us/sample - loss: 0.0026 - accuracy: 1.0000 - val_loss: 0.3323 - val_accuracy: 0.9087\n",
      "Epoch 28/50\n",
      "13500/13500 [==============================] - 2s 174us/sample - loss: 0.0023 - accuracy: 1.0000 - val_loss: 0.3274 - val_accuracy: 0.9067\n",
      "Epoch 29/50\n",
      "13500/13500 [==============================] - 2s 173us/sample - loss: 0.0026 - accuracy: 1.0000 - val_loss: 0.3697 - val_accuracy: 0.9067\n",
      "Epoch 30/50\n",
      "13500/13500 [==============================] - 2s 174us/sample - loss: 0.0023 - accuracy: 1.0000 - val_loss: 0.3448 - val_accuracy: 0.9100\n",
      "Epoch 31/50\n",
      "13500/13500 [==============================] - 2s 169us/sample - loss: 0.0021 - accuracy: 1.0000 - val_loss: 0.3683 - val_accuracy: 0.9060\n",
      "Epoch 32/50\n",
      "13500/13500 [==============================] - 2s 168us/sample - loss: 0.0022 - accuracy: 0.9999 - val_loss: 0.3430 - val_accuracy: 0.9040\n",
      "Epoch 33/50\n",
      "13500/13500 [==============================] - 2s 170us/sample - loss: 0.0019 - accuracy: 1.0000 - val_loss: 0.3981 - val_accuracy: 0.9040\n",
      "Epoch 34/50\n",
      "13500/13500 [==============================] - 2s 176us/sample - loss: 0.0043 - accuracy: 0.9999 - val_loss: 0.3669 - val_accuracy: 0.9073\n",
      "Epoch 35/50\n",
      "13500/13500 [==============================] - 2s 167us/sample - loss: 0.0017 - accuracy: 1.0000 - val_loss: 0.4275 - val_accuracy: 0.8953\n",
      "Epoch 36/50\n",
      "13500/13500 [==============================] - 2s 168us/sample - loss: 0.0020 - accuracy: 1.0000 - val_loss: 0.4250 - val_accuracy: 0.9013\n",
      "Epoch 37/50\n",
      "13500/13500 [==============================] - 2s 168us/sample - loss: 0.0038 - accuracy: 0.9999 - val_loss: 0.3691 - val_accuracy: 0.9060\n",
      "Epoch 38/50\n",
      "13500/13500 [==============================] - 2s 176us/sample - loss: 0.0018 - accuracy: 1.0000 - val_loss: 0.4088 - val_accuracy: 0.9060\n",
      "Epoch 39/50\n",
      "13500/13500 [==============================] - 2s 179us/sample - loss: 0.0026 - accuracy: 0.9999 - val_loss: 0.8832 - val_accuracy: 0.8940\n",
      "Epoch 40/50\n",
      "13500/13500 [==============================] - 2s 180us/sample - loss: 0.0612 - accuracy: 0.9984 - val_loss: 4.0082 - val_accuracy: 0.9060\n",
      "Epoch 41/50\n",
      "13500/13500 [==============================] - 2s 173us/sample - loss: 0.0257 - accuracy: 0.9990 - val_loss: 0.6008 - val_accuracy: 0.9000\n",
      "Epoch 42/50\n",
      "13500/13500 [==============================] - 2s 182us/sample - loss: 0.0059 - accuracy: 0.9997 - val_loss: 0.5165 - val_accuracy: 0.9007\n",
      "Epoch 43/50\n",
      "13500/13500 [==============================] - 2s 174us/sample - loss: 0.0027 - accuracy: 0.9999 - val_loss: 0.4564 - val_accuracy: 0.8993\n",
      "Epoch 44/50\n",
      "13500/13500 [==============================] - 2s 173us/sample - loss: 0.0020 - accuracy: 1.0000 - val_loss: 0.4274 - val_accuracy: 0.9053\n",
      "Epoch 45/50\n",
      "13500/13500 [==============================] - 2s 171us/sample - loss: 0.0018 - accuracy: 1.0000 - val_loss: 0.4148 - val_accuracy: 0.9060\n",
      "Epoch 46/50\n",
      "13500/13500 [==============================] - 2s 173us/sample - loss: 0.0017 - accuracy: 1.0000 - val_loss: 0.4104 - val_accuracy: 0.9053\n",
      "Epoch 47/50\n",
      "13500/13500 [==============================] - 2s 173us/sample - loss: 0.0017 - accuracy: 1.0000 - val_loss: 0.4117 - val_accuracy: 0.9067\n",
      "Epoch 48/50\n",
      "13500/13500 [==============================] - 3s 186us/sample - loss: 0.0016 - accuracy: 1.0000 - val_loss: 0.4026 - val_accuracy: 0.9067\n",
      "Epoch 49/50\n",
      "13500/13500 [==============================] - 2s 181us/sample - loss: 0.0016 - accuracy: 1.0000 - val_loss: 0.3972 - val_accuracy: 0.9073\n",
      "Epoch 50/50\n",
      "13500/13500 [==============================] - 2s 173us/sample - loss: 0.0016 - accuracy: 1.0000 - val_loss: 0.4030 - val_accuracy: 0.9067\n"
     ]
    },
    {
     "data": {
      "text/plain": [
       "<tensorflow.python.keras.callbacks.History at 0x220188488d0>"
      ]
     },
     "execution_count": 45,
     "metadata": {},
     "output_type": "execute_result"
    }
   ],
   "source": [
    "# changing epoch size\n",
    "model = Sequential()\n",
    "model.add(Dense(units = 64, activation = 'tanh', input_shape = (11275, )))\n",
    "model.add(Dense(units = 128, activation = 'tanh', kernel_regularizer = regularizers.l2(0.005)))\n",
    "model.add(Dense(units = 128, activation = 'tanh', kernel_regularizer = regularizers.l2(0.005)))\n",
    "model.add(Dense(units = 1, activation = 'sigmoid'))\n",
    "model.compile(optimizer = 'adam', loss = 'binary_crossentropy', metrics = ['accuracy'])\n",
    "model.fit(X_train_transformed_scaled, y_train, validation_split = 0.1, batch_size = 50, epochs = 50)"
   ]
  },
  {
   "cell_type": "code",
   "execution_count": 48,
   "metadata": {},
   "outputs": [
    {
     "name": "stdout",
     "output_type": "stream",
     "text": [
      "Train on 13500 samples, validate on 1500 samples\n",
      "Epoch 1/10\n",
      "13500/13500 [==============================] - 3s 213us/sample - loss: 0.9882 - accuracy: 0.8656 - val_loss: 0.6621 - val_accuracy: 0.9087\n",
      "Epoch 2/10\n",
      "13500/13500 [==============================] - 2s 167us/sample - loss: 0.5514 - accuracy: 0.9799 - val_loss: 0.6237 - val_accuracy: 0.9060\n",
      "Epoch 3/10\n",
      "13500/13500 [==============================] - 2s 167us/sample - loss: 0.5184 - accuracy: 0.9920 - val_loss: 0.6279 - val_accuracy: 0.9173\n",
      "Epoch 4/10\n",
      "13500/13500 [==============================] - 2s 168us/sample - loss: 0.5113 - accuracy: 0.9961 - val_loss: 0.6387 - val_accuracy: 0.9153\n",
      "Epoch 5/10\n",
      "13500/13500 [==============================] - 2s 171us/sample - loss: 0.5085 - accuracy: 0.9984 - val_loss: 0.6378 - val_accuracy: 0.9180\n",
      "Epoch 6/10\n",
      "13500/13500 [==============================] - 2s 172us/sample - loss: 0.5072 - accuracy: 0.9990 - val_loss: 0.6416 - val_accuracy: 0.9140\n",
      "Epoch 7/10\n",
      "13500/13500 [==============================] - 2s 167us/sample - loss: 0.5063 - accuracy: 0.9992 - val_loss: 0.6443 - val_accuracy: 0.9113\n",
      "Epoch 8/10\n",
      "13500/13500 [==============================] - 2s 165us/sample - loss: 0.5059 - accuracy: 0.9991 - val_loss: 0.6610 - val_accuracy: 0.9113\n",
      "Epoch 9/10\n",
      "13500/13500 [==============================] - 2s 170us/sample - loss: 0.5054 - accuracy: 0.9995 - val_loss: 0.6581 - val_accuracy: 0.9107\n",
      "Epoch 10/10\n",
      "13500/13500 [==============================] - 2s 167us/sample - loss: 0.5050 - accuracy: 0.9994 - val_loss: 0.6486 - val_accuracy: 0.9093\n"
     ]
    },
    {
     "data": {
      "text/plain": [
       "<tensorflow.python.keras.callbacks.History at 0x2201c05c358>"
      ]
     },
     "execution_count": 48,
     "metadata": {},
     "output_type": "execute_result"
    }
   ],
   "source": [
    "# changing loss function\n",
    "model = Sequential()\n",
    "model.add(Dense(units = 64, activation = 'tanh', input_shape = (11275, )))\n",
    "model.add(Dense(units = 128, activation = 'tanh', kernel_regularizer = regularizers.l2(0.005)))\n",
    "model.add(Dense(units = 128, activation = 'tanh', kernel_regularizer = regularizers.l2(0.005)))\n",
    "model.add(Dense(units = 1, activation = 'sigmoid'))\n",
    "model.compile(optimizer = 'adam', loss = 'poisson', metrics = ['accuracy'])\n",
    "model.fit(X_train_transformed_scaled, y_train, validation_split = 0.1, batch_size = 50, epochs = 10)"
   ]
  },
  {
   "cell_type": "code",
   "execution_count": 49,
   "metadata": {},
   "outputs": [
    {
     "name": "stdout",
     "output_type": "stream",
     "text": [
      "Train on 13500 samples, validate on 1500 samples\n",
      "Epoch 1/10\n",
      "13500/13500 [==============================] - 3s 200us/sample - loss: 1.6385 - accuracy: 0.6771 - val_loss: 1.4641 - val_accuracy: 0.8053\n",
      "Epoch 2/10\n",
      "13500/13500 [==============================] - 2s 159us/sample - loss: 1.2695 - accuracy: 0.8992 - val_loss: 1.2762 - val_accuracy: 0.8633\n",
      "Epoch 3/10\n",
      "13500/13500 [==============================] - 2s 163us/sample - loss: 1.0359 - accuracy: 0.9793 - val_loss: 1.2174 - val_accuracy: 0.8753\n",
      "Epoch 4/10\n",
      "13500/13500 [==============================] - 2s 163us/sample - loss: 0.9299 - accuracy: 0.9956 - val_loss: 1.1768 - val_accuracy: 0.8813\n",
      "Epoch 5/10\n",
      "13500/13500 [==============================] - 2s 161us/sample - loss: 0.8673 - accuracy: 0.9984 - val_loss: 1.1416 - val_accuracy: 0.8773\n",
      "Epoch 6/10\n",
      "13500/13500 [==============================] - 2s 157us/sample - loss: 0.8169 - accuracy: 0.9993 - val_loss: 1.1067 - val_accuracy: 0.8800\n",
      "Epoch 7/10\n",
      "13500/13500 [==============================] - 2s 157us/sample - loss: 0.7720 - accuracy: 0.9995 - val_loss: 1.0706 - val_accuracy: 0.8800\n",
      "Epoch 8/10\n",
      "13500/13500 [==============================] - 2s 159us/sample - loss: 0.7307 - accuracy: 0.9999 - val_loss: 1.0361 - val_accuracy: 0.8800\n",
      "Epoch 9/10\n",
      "13500/13500 [==============================] - 2s 160us/sample - loss: 0.6924 - accuracy: 1.0000 - val_loss: 1.0017 - val_accuracy: 0.8800\n",
      "Epoch 10/10\n",
      "13500/13500 [==============================] - 2s 156us/sample - loss: 0.6564 - accuracy: 1.0000 - val_loss: 0.9682 - val_accuracy: 0.8793\n"
     ]
    },
    {
     "data": {
      "text/plain": [
       "<tensorflow.python.keras.callbacks.History at 0x22032947390>"
      ]
     },
     "execution_count": 49,
     "metadata": {},
     "output_type": "execute_result"
    }
   ],
   "source": [
    "# changing optimizer\n",
    "model = Sequential()\n",
    "model.add(Dense(units = 64, activation = 'tanh', input_shape = (11275, )))\n",
    "model.add(Dense(units = 128, activation = 'tanh', kernel_regularizer = regularizers.l2(0.005)))\n",
    "model.add(Dense(units = 128, activation = 'tanh', kernel_regularizer = regularizers.l2(0.005)))\n",
    "model.add(Dense(units = 1, activation = 'sigmoid'))\n",
    "model.compile(optimizer = 'SGD', loss = 'binary_crossentropy', metrics = ['accuracy'])\n",
    "model.fit(X_train_transformed_scaled, y_train, validation_split = 0.1, batch_size = 50, epochs = 10)"
   ]
  },
  {
   "cell_type": "code",
   "execution_count": 57,
   "metadata": {},
   "outputs": [
    {
     "name": "stdout",
     "output_type": "stream",
     "text": [
      "Train on 13500 samples, validate on 1500 samples\n",
      "Epoch 1/5\n",
      "13500/13500 [==============================] - 4s 333us/sample - loss: 0.6786 - accuracy: 0.8787 - val_loss: 0.2764 - val_accuracy: 0.9280\n",
      "Epoch 2/5\n",
      "13500/13500 [==============================] - 3s 254us/sample - loss: 0.1279 - accuracy: 0.9689 - val_loss: 0.1984 - val_accuracy: 0.9293\n",
      "Epoch 3/5\n",
      "13500/13500 [==============================] - 3s 258us/sample - loss: 0.0588 - accuracy: 0.9857 - val_loss: 0.2354 - val_accuracy: 0.9193\n",
      "Epoch 4/5\n",
      "13500/13500 [==============================] - 4s 279us/sample - loss: 0.0328 - accuracy: 0.9924 - val_loss: 0.2911 - val_accuracy: 0.9167\n",
      "Epoch 5/5\n",
      "13500/13500 [==============================] - 4s 271us/sample - loss: 0.0230 - accuracy: 0.9946 - val_loss: 0.2520 - val_accuracy: 0.9173\n"
     ]
    },
    {
     "data": {
      "text/plain": [
       "<tensorflow.python.keras.callbacks.History at 0x22025851be0>"
      ]
     },
     "execution_count": 57,
     "metadata": {},
     "output_type": "execute_result"
    }
   ],
   "source": [
    "# changing optimizer\n",
    "# might be the best\n",
    "model = Sequential()\n",
    "model.add(Dense(units = 64, activation = 'tanh', input_shape = (11275, )))\n",
    "model.add(Dense(units = 128, activation = 'tanh', kernel_regularizer = regularizers.l2(0.005)))\n",
    "model.add(Dense(units = 128, activation = 'tanh', kernel_regularizer = regularizers.l2(0.005)))\n",
    "model.add(Dense(units = 1, activation = 'sigmoid'))\n",
    "model.compile(optimizer = 'RMSprop', loss = 'binary_crossentropy', metrics = ['accuracy'])\n",
    "model.fit(X_train_transformed_scaled, y_train, validation_split = 0.1, batch_size = 50, epochs = 5)"
   ]
  },
  {
   "cell_type": "code",
   "execution_count": 52,
   "metadata": {},
   "outputs": [
    {
     "name": "stdout",
     "output_type": "stream",
     "text": [
      "Train on 13500 samples, validate on 1500 samples\n",
      "Epoch 1/5\n",
      "13500/13500 [==============================] - 3s 223us/sample - loss: 1.8006 - accuracy: 0.5021 - val_loss: 1.7867 - val_accuracy: 0.5100\n",
      "Epoch 2/5\n",
      "13500/13500 [==============================] - 3s 186us/sample - loss: 1.7926 - accuracy: 0.5085 - val_loss: 1.7795 - val_accuracy: 0.5153\n",
      "Epoch 3/5\n",
      "13500/13500 [==============================] - 3s 188us/sample - loss: 1.7852 - accuracy: 0.5151 - val_loss: 1.7726 - val_accuracy: 0.5213\n",
      "Epoch 4/5\n",
      "13500/13500 [==============================] - 2s 181us/sample - loss: 1.7781 - accuracy: 0.5206 - val_loss: 1.7660 - val_accuracy: 0.5287\n",
      "Epoch 5/5\n",
      "13500/13500 [==============================] - 2s 183us/sample - loss: 1.7712 - accuracy: 0.5263 - val_loss: 1.7596 - val_accuracy: 0.5347\n"
     ]
    },
    {
     "data": {
      "text/plain": [
       "<tensorflow.python.keras.callbacks.History at 0x2201f12c048>"
      ]
     },
     "execution_count": 52,
     "metadata": {},
     "output_type": "execute_result"
    }
   ],
   "source": [
    "# changing optimizer\n",
    "model = Sequential()\n",
    "model.add(Dense(units = 64, activation = 'tanh', input_shape = (11275, )))\n",
    "model.add(Dense(units = 128, activation = 'tanh', kernel_regularizer = regularizers.l2(0.005)))\n",
    "model.add(Dense(units = 128, activation = 'tanh', kernel_regularizer = regularizers.l2(0.005)))\n",
    "model.add(Dense(units = 1, activation = 'sigmoid'))\n",
    "model.compile(optimizer = 'Adadelta', loss = 'binary_crossentropy', metrics = ['accuracy'])\n",
    "model.fit(X_train_transformed_scaled, y_train, validation_split = 0.1, batch_size = 50, epochs = 5)"
   ]
  },
  {
   "cell_type": "code",
   "execution_count": 56,
   "metadata": {},
   "outputs": [
    {
     "name": "stdout",
     "output_type": "stream",
     "text": [
      "Train on 13500 samples, validate on 1500 samples\n",
      "Epoch 1/5\n",
      "13500/13500 [==============================] - 3s 233us/sample - loss: 0.6973 - accuracy: 0.4947 - val_loss: 0.6931 - val_accuracy: 0.5000\n",
      "Epoch 2/5\n",
      "13500/13500 [==============================] - 3s 188us/sample - loss: 0.6931 - accuracy: 0.5004 - val_loss: 0.6931 - val_accuracy: 0.5000\n",
      "Epoch 3/5\n",
      "13500/13500 [==============================] - 3s 192us/sample - loss: 0.6931 - accuracy: 0.4996 - val_loss: 0.6931 - val_accuracy: 0.5000\n",
      "Epoch 4/5\n",
      "13500/13500 [==============================] - 3s 193us/sample - loss: 0.6931 - accuracy: 0.5008 - val_loss: 0.6931 - val_accuracy: 0.5000\n",
      "Epoch 5/5\n",
      "13500/13500 [==============================] - 3s 186us/sample - loss: 0.6931 - accuracy: 0.5008 - val_loss: 0.6931 - val_accuracy: 0.5000\n"
     ]
    },
    {
     "data": {
      "text/plain": [
       "<tensorflow.python.keras.callbacks.History at 0x22022eb0b70>"
      ]
     },
     "execution_count": 56,
     "metadata": {},
     "output_type": "execute_result"
    }
   ],
   "source": [
    "# changing optimizer\n",
    "model = Sequential()\n",
    "model.add(Dense(units = 64, activation = 'tanh', input_shape = (11275, )))\n",
    "model.add(Dense(units = 128, activation = 'tanh', kernel_regularizer = regularizers.l2(0.005)))\n",
    "model.add(Dense(units = 128, activation = 'tanh', kernel_regularizer = regularizers.l2(0.005)))\n",
    "model.add(Dense(units = 1, activation = 'sigmoid'))\n",
    "model.compile(optimizer = 'Ftrl', loss = 'binary_crossentropy', metrics = ['accuracy'])\n",
    "model.fit(X_train_transformed_scaled, y_train, validation_split = 0.1, batch_size = 50, epochs = 5)"
   ]
  },
  {
   "cell_type": "code",
   "execution_count": 61,
   "metadata": {},
   "outputs": [
    {
     "name": "stdout",
     "output_type": "stream",
     "text": [
      "Train on 13500 samples, validate on 1500 samples\n",
      "Epoch 1/5\n",
      "13500/13500 [==============================] - 4s 308us/sample - loss: 3.3002 - accuracy: 0.8934 - val_loss: 0.2391 - val_accuracy: 0.9327\n",
      "Epoch 2/5\n",
      "13500/13500 [==============================] - 3s 257us/sample - loss: 0.1431 - accuracy: 0.9692 - val_loss: 0.2157 - val_accuracy: 0.9353\n",
      "Epoch 3/5\n",
      "13500/13500 [==============================] - 3s 256us/sample - loss: 0.0939 - accuracy: 0.9822 - val_loss: 0.2168 - val_accuracy: 0.9360\n",
      "Epoch 4/5\n",
      "13500/13500 [==============================] - 3s 250us/sample - loss: 0.0667 - accuracy: 0.9890 - val_loss: 0.2316 - val_accuracy: 0.9280\n",
      "Epoch 5/5\n",
      "13500/13500 [==============================] - 3s 252us/sample - loss: 0.0516 - accuracy: 0.9929 - val_loss: 0.2292 - val_accuracy: 0.9267\n"
     ]
    },
    {
     "data": {
      "text/plain": [
       "<tensorflow.python.keras.callbacks.History at 0x22052cdf400>"
      ]
     },
     "execution_count": 61,
     "metadata": {},
     "output_type": "execute_result"
    }
   ],
   "source": [
    "# changing regularization strength\n",
    "model = Sequential()\n",
    "model.add(Dense(units = 64, activation = 'tanh', input_shape = (11275, )))\n",
    "model.add(Dense(units = 128, activation = 'tanh', kernel_regularizer = regularizers.l2(0.1)))\n",
    "model.add(Dense(units = 128, activation = 'tanh', kernel_regularizer = regularizers.l2(0.1)))\n",
    "model.add(Dense(units = 1, activation = 'sigmoid'))\n",
    "model.compile(optimizer = 'RMSprop', loss = 'binary_crossentropy', metrics = ['accuracy'])\n",
    "model.fit(X_train_transformed_scaled, y_train, validation_split = 0.1, batch_size = 50, epochs = 5)"
   ]
  },
  {
   "cell_type": "code",
   "execution_count": 112,
   "metadata": {},
   "outputs": [
    {
     "name": "stdout",
     "output_type": "stream",
     "text": [
      "Train on 13500 samples, validate on 1500 samples\n",
      "Epoch 1/5\n",
      "13500/13500 [==============================] - 4s 305us/sample - loss: 9.3329 - accuracy: 0.8790 - val_loss: 0.4554 - val_accuracy: 0.9373\n",
      "Epoch 2/5\n",
      "13500/13500 [==============================] - 3s 245us/sample - loss: 0.3149 - accuracy: 0.9564 - val_loss: 0.3091 - val_accuracy: 0.9333\n",
      "Epoch 3/5\n",
      "13500/13500 [==============================] - 3s 245us/sample - loss: 0.2190 - accuracy: 0.9724 - val_loss: 0.2681 - val_accuracy: 0.9407\n",
      "Epoch 4/5\n",
      "13500/13500 [==============================] - 3s 246us/sample - loss: 0.1708 - accuracy: 0.9810 - val_loss: 0.2595 - val_accuracy: 0.9347\n",
      "Epoch 5/5\n",
      "13500/13500 [==============================] - 3s 245us/sample - loss: 0.1383 - accuracy: 0.9864 - val_loss: 0.2469 - val_accuracy: 0.9347\n",
      "It took 17.538179397583008 to run\n"
     ]
    }
   ],
   "source": [
    "# changing regularization strength\n",
    "# our best model, the one we will choose\n",
    "start_time = time.time()\n",
    "model = Sequential()\n",
    "model.add(Dense(units = 64, activation = 'tanh', input_shape = (11275, )))\n",
    "model.add(Dense(units = 32, activation = 'tanh', kernel_regularizer = regularizers.l2(0.5)))\n",
    "model.add(Dense(units = 32, activation = 'tanh', kernel_regularizer = regularizers.l2(0.5)))\n",
    "model.add(Dense(units = 1, activation = 'sigmoid'))\n",
    "model.compile(optimizer = 'RMSprop', loss = 'binary_crossentropy', metrics = ['accuracy'])\n",
    "model.fit(X_train_transformed_scaled, y_train, validation_split = 0.1, batch_size = 50, epochs = 5)\n",
    "nn_time = time.time() - start_time\n",
    "y_hat_train = model.predict_classes(X_train_transformed_scaled)\n",
    "y_hat_test = model.predict_classes(X_test_transformed_scaled)\n",
    "\n",
    "print(f\"It took {nn_time} to run\")"
   ]
  },
  {
   "cell_type": "code",
   "execution_count": 66,
   "metadata": {},
   "outputs": [
    {
     "data": {
      "text/plain": [
       "0.9872666666666666"
      ]
     },
     "execution_count": 66,
     "metadata": {},
     "output_type": "execute_result"
    }
   ],
   "source": [
    "# accuracy on the training data\n",
    "accuracy_score(y_train, y_hat_train)"
   ]
  },
  {
   "cell_type": "code",
   "execution_count": 69,
   "metadata": {},
   "outputs": [
    {
     "data": {
      "text/plain": [
       "array([[7383,  106],\n",
       "       [  85, 7426]], dtype=int64)"
      ]
     },
     "execution_count": 69,
     "metadata": {},
     "output_type": "execute_result"
    }
   ],
   "source": [
    "confusion_matrix(y_train, y_hat_train)"
   ]
  },
  {
   "cell_type": "code",
   "execution_count": 67,
   "metadata": {},
   "outputs": [
    {
     "data": {
      "text/plain": [
       "0.9304"
      ]
     },
     "execution_count": 67,
     "metadata": {},
     "output_type": "execute_result"
    }
   ],
   "source": [
    "# accuracy on the test data\n",
    "accuracy_score(y_test, y_hat_test)"
   ]
  },
  {
   "cell_type": "code",
   "execution_count": 68,
   "metadata": {},
   "outputs": [
    {
     "data": {
      "text/plain": [
       "array([[2326,  185],\n",
       "       [ 163, 2326]], dtype=int64)"
      ]
     },
     "execution_count": 68,
     "metadata": {},
     "output_type": "execute_result"
    }
   ],
   "source": [
    "confusion_matrix(y_test, y_hat_test)"
   ]
  },
  {
   "cell_type": "code",
   "execution_count": 100,
   "metadata": {},
   "outputs": [],
   "source": [
    "def plot_results(model):\n",
    "    fig, (ax1,ax2) = plt.subplots(1,2)\n",
    "\n",
    "    ax1.plot(model.history.epoch, model.history.history['loss'], label='loss')\n",
    "    ax1.plot(model.history.epoch, model.history.history['val_loss'], label='val_loss')\n",
    "    ax1.set_ylim(0.1,0.4)\n",
    "    ax1.legend()\n",
    "    \n",
    "    ax2.plot(model.history.epoch, model.history.history['accuracy'], label='accuracy')\n",
    "    ax2.plot(model.history.epoch, model.history.history['val_accuracy'], label='val_accuracy')\n",
    "\n",
    "    ax2.legend()"
   ]
  },
  {
   "cell_type": "code",
   "execution_count": 101,
   "metadata": {},
   "outputs": [
    {
     "data": {
      "image/png": "[encoded data removed]",
      "text/plain": [
       "<Figure size 432x288 with 2 Axes>"
      ]
     },
     "metadata": {
      "needs_background": "light"
     },
     "output_type": "display_data"
    }
   ],
   "source": [
    "plot_results(model)"
   ]
  },
  {
   "cell_type": "code",
   "execution_count": 114,
   "metadata": {},
   "outputs": [
    {
     "name": "stdout",
     "output_type": "stream",
     "text": [
      "Neural Network Model Evaluation\n",
      "\n",
      "Model runtime: 17.538179397583008\n",
      "\n",
      "Train accuracy: 0.9864\n",
      "Train confusion matrix:\n",
      "[[0.98758179 0.01241821]\n",
      " [0.01477833 0.98522167]]\n",
      "\n",
      "Test accuracy: 0.9366\n",
      "Test confusion matrix:\n",
      "[[0.9398646  0.0601354 ]\n",
      " [0.06669345 0.93330655]]\n"
     ]
    }
   ],
   "source": [
    "print(\"Neural Network Model Evaluation\\n\")\n",
    "print(\"Model runtime:\", nn_time)\n",
    "print(\"\\nTrain accuracy:\", accuracy_score(y_train, y_hat_train))\n",
    "print(\"Train confusion matrix:\")\n",
    "print(confusion_matrix(y_train, y_hat_train, normalize = 'true'))\n",
    "print(\"\\nTest accuracy:\", accuracy_score(y_test, y_hat_test))\n",
    "print(\"Test confusion matrix:\")\n",
    "print(confusion_matrix(y_test, y_hat_test, normalize = 'true'))"
   ]
  },
  {
   "cell_type": "code",
   "execution_count": 115,
   "metadata": {},
   "outputs": [
    {
     "name": "stdout",
     "output_type": "stream",
     "text": [
      "Random Forest Classifier Evaluation\n",
      "\n",
      "Model runtime: 46.04483366012573\n",
      "\n",
      "Train accuracy: 0.9826666666666667\n",
      "Train confusion matrix:\n",
      "[[0.97636534 0.02363466]\n",
      " [0.01105046 0.98894954]]\n",
      "\n",
      "Test accuracy: 0.913\n",
      "Test confusion matrix:\n",
      "[[0.913182   0.086818  ]\n",
      " [0.08718361 0.91281639]]\n"
     ]
    }
   ],
   "source": [
    "print(\"Random Forest Classifier Evaluation\\n\")\n",
    "print(\"Model runtime:\", rfc_time)\n",
    "print(\"\\nTrain accuracy:\", rfc.score(X_train_transformed, y_train))\n",
    "print(\"Train confusion matrix:\")\n",
    "print(confusion_matrix(y_train, rfc.predict(X_train_transformed), normalize = 'true'))\n",
    "print(\"\\nTest accuracy:\", rfc.score(X_test_transformed, y_test))\n",
    "print(\"Test confusion matrix:\")\n",
    "print(confusion_matrix(y_test, rfc.predict(X_test_transformed), normalize = 'true'))"
   ]
  },
  {
   "cell_type": "code",
   "execution_count": 138,
   "metadata": {},
   "outputs": [],
   "source": [
    "import seaborn as sns\n",
    "sns.set(style = 'whitegrid')\n",
    "dv = pd.DataFrame(data = [[nn_time, accuracy_score(y_train, y_hat_train), accuracy_score(y_test, y_hat_test), 'NN'], [rfc_time, rfc.score(X_train_transformed, y_train), rfc.score(X_test_transformed, y_test), 'RFC']], columns = ['Runtime', 'Train Data Accuracy', 'Test Data Accuracy', 'Model'])"
   ]
  },
  {
   "cell_type": "code",
   "execution_count": 149,
   "metadata": {},
   "outputs": [
    {
     "data": {
      "text/plain": [
       "[Text(0, 0.5, ''), Text(0.5, 0, '')]"
      ]
     },
     "execution_count": 149,
     "metadata": {},
     "output_type": "execute_result"
    },
    {
     "data": {
      "image/png": "[encoded data removed]",
      "text/plain": [
       "<Figure size 432x288 with 1 Axes>"
      ]
     },
     "metadata": {},
     "output_type": "display_data"
    }
   ],
   "source": [
    "ax = sns.barplot(x = 'Model', y = 'Runtime', data = dv, palette = 'flare')\n",
    "ax.set_title('Runtime Comparison in Seconds')\n",
    "ax.set(ylabel = '', xlabel = '')"
   ]
  },
  {
   "cell_type": "code",
   "execution_count": 148,
   "metadata": {},
   "outputs": [
    {
     "data": {
      "text/plain": [
       "[(0.98, 0.989), Text(0, 0.5, ''), Text(0.5, 0, '')]"
      ]
     },
     "execution_count": 148,
     "metadata": {},
     "output_type": "execute_result"
    },
    {
     "data": {
      "image/png": "[encoded data removed]",
      "text/plain": [
       "<Figure size 432x288 with 1 Axes>"
      ]
     },
     "metadata": {},
     "output_type": "display_data"
    }
   ],
   "source": [
    "ax = sns.barplot(x = 'Model', y = 'Train Data Accuracy', data = dv, palette = 'flare')\n",
    "ax.set_title('Train Data Accuracy')\n",
    "ax.set(ylim = (0.98,0.989), ylabel = '', xlabel = '')"
   ]
  },
  {
   "cell_type": "code",
   "execution_count": 153,
   "metadata": {},
   "outputs": [
    {
     "data": {
      "text/plain": [
       "[(0.9, 0.95), Text(0, 0.5, ''), Text(0.5, 0, '')]"
      ]
     },
     "execution_count": 153,
     "metadata": {},
     "output_type": "execute_result"
    },
    {
     "data": {
      "image/png": "[encoded data removed]",
      "text/plain": [
       "<Figure size 432x288 with 1 Axes>"
      ]
     },
     "metadata": {},
     "output_type": "display_data"
    }
   ],
   "source": [
    "ax = sns.barplot(x = 'Model', y = 'Test Data Accuracy', data = dv, palette = 'flare')\n",
    "ax.set_title('Test Data Accuracy')\n",
    "ax.set(ylim = (0.90,0.95), ylabel = '', xlabel = '')"
   ]
  },
  {
   "cell_type": "markdown",
   "metadata": {},
   "source": [
    "# Our neural network model is better.\n",
    "\n",
    "The Northwind Trading Company should swap to our new neural network model for several reasons.  In regards to our model performance on our training data, it performs better, though it is by such a small margin that it should not be really taken into account.  However, our neural network has a much much lower computational complexity, and can be initialized, fitted, and predict 170%!!! faster than the random forest classifier.  When working with other, larger datasets this could be the difference between waiting an hour to get your numbers and waiting an entire afternoon.  Not only that, the neural network has a better accuracy score when it comes to datasets that are outside of our train data."
   ]
  },
  {
   "cell_type": "code",
   "execution_count": null,
   "metadata": {},
   "outputs": [],
   "source": []
  }
 ],
 "metadata": {
  "kernelspec": {
   "display_name": "learn-env",
   "language": "python",
   "name": "learn-env"
  },
  "language_info": {
   "codemirror_mode": {
    "name": "ipython",
    "version": 3
   },
   "file_extension": ".py",
   "mimetype": "text/x-python",
   "name": "python",
   "nbconvert_exporter": "python",
   "pygments_lexer": "ipython3",
   "version": "3.6.9"
  }
 },
 "nbformat": 4,
 "nbformat_minor": 4
}
